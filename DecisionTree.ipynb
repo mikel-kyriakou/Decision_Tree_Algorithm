{
 "cells": [
  {
   "attachments": {},
   "cell_type": "markdown",
   "metadata": {},
   "source": [
    "### ID3"
   ]
  },
  {
   "cell_type": "code",
   "execution_count": 144,
   "metadata": {
    "scrolled": true,
    "tags": []
   },
   "outputs": [],
   "source": [
    "import math\n",
    "from tqdm import tqdm\n",
    "\n",
    "class ID3:\n",
    "    \n",
    "    class Node:\n",
    "        def __init__(self):\n",
    "            self.feature = None\n",
    "            self.subtree0 = None\n",
    "            self.subtree1 = None\n",
    "            self.prediction = None\n",
    "            self.depth = None\n",
    "            \n",
    "    def IG(self, class_, feature):\n",
    "        classes = set(class_)\n",
    "\n",
    "        Hc = 0\n",
    "        for c in classes:\n",
    "            pc = list(class_).count(c)/len(class_)\n",
    "            Hc += - pc * math.log(pc, 2)\n",
    "        #print('Overall Entropy:', Hc)\n",
    "        feature_values = set(feature)\n",
    "\n",
    "        Hc_feature = 0\n",
    "        for feat in feature_values:\n",
    "            \n",
    "            #pf --> P(X=x)\n",
    "            pf = list(feature).count(feat)/len(feature)\n",
    "            indices = [i for i in range(len(feature)) if feature[i] == feat]\n",
    "            clasess_of_feat = [class_[i] for i in indices]\n",
    "            for c in classes:\n",
    "                #pcf --> P(C=c|X=x)\n",
    "                pcf = clasess_of_feat.count(c)/len(clasess_of_feat)\n",
    "                if pcf != 0: \n",
    "                    # - P(X=x) * P(C=c|X=x) * log2(P(C=c|X=x))\n",
    "                    temp_H = - pf * pcf * math.log(pcf, 2)\n",
    "                    #sum for all values of C (class) and X (values of specific feature)\n",
    "                    Hc_feature += temp_H\n",
    "        ig = Hc - Hc_feature\n",
    "        return ig\n",
    "\n",
    "\n",
    "    def create_tree(self, x_examples_binary, y_examples, default=0, max_depth = None, current_depth = None):\n",
    "        # Create root node\n",
    "        root = self.Node()\n",
    "        \n",
    "        if current_depth == None:\n",
    "            root.depth = 0\n",
    "        else:\n",
    "            root.depth = current_depth\n",
    "            \n",
    "        # When there are no examples\n",
    "        if len(y_examples)==0:\n",
    "            root.prediction = default\n",
    "            return root\n",
    "        \n",
    "        # When there are no features, we return the most common category from y_examples\n",
    "        sum_y = 0\n",
    "        for i in y_examples:\n",
    "            sum_y += i\n",
    "        if len(x_examples_binary[0]) == 0:\n",
    "            root.prediction = round(sum_y/len(y_examples))\n",
    "            return root\n",
    "        \n",
    "        # Reach max depth\n",
    "        if max_depth != None:\n",
    "            if max_depth <= root.depth:\n",
    "                root.prediction = round(sum_y/len(y_examples))\n",
    "                return root\n",
    "\n",
    "        # When all examples are in the same category\n",
    "        if sum_y == 0 or sum_y == len(y_examples):\n",
    "            root.prediction = y_examples[0]\n",
    "            return root\n",
    "        \n",
    "        # Find the best feature that give us the max information gain\n",
    "        informationGain = []\n",
    "        featureValues = []\n",
    "        \n",
    "        max_ig=0\n",
    "        max_feature_index = 0\n",
    "        \n",
    "        for i in range(len(x_examples_binary[0])):\n",
    "            featureValues.append([example[i] for example in x_examples_binary])\n",
    "            informationGain.append(self.IG(y_examples, featureValues[i]))\n",
    "            if informationGain[i]>max_ig:\n",
    "                max_ig = informationGain[i]\n",
    "                max_feature_index = i\n",
    "                                    \n",
    "        root.feature = max_feature_index\n",
    "        \n",
    "        del(informationGain)\n",
    "        del(featureValues)\n",
    "                    \n",
    "        # Find the category of each example based on the best feature\n",
    "        x_examples0 = []\n",
    "        y_examples0 = []\n",
    "        x_examples1 = []\n",
    "        y_examples1 = []\n",
    "        \n",
    "        for i in range(len(x_examples_binary)):\n",
    "            if x_examples_binary[i][max_feature_index] == 0:\n",
    "                x_examples0.append([inst for inst in x_examples_binary[i]])\n",
    "                y_examples0.append(y_examples[i])\n",
    "            else:\n",
    "                x_examples1.append([inst for inst in x_examples_binary[i]])\n",
    "                y_examples1.append(y_examples[i])\n",
    "                \n",
    "        # Remove the best feature and create a subtree for each category of the examples\n",
    "        for i in range(len(x_examples0)): \n",
    "            x_examples0[i].pop(max_feature_index)\n",
    "        for i in range(len(x_examples1)): \n",
    "            x_examples1[i].pop(max_feature_index)\n",
    "\n",
    "        # print(root.depth)\n",
    "        \n",
    "        root.subtree0 = self.create_tree(x_examples0, y_examples0, max_depth=max_depth, current_depth=root.depth+1)\n",
    "        root.subtree1 = self.create_tree(x_examples1, y_examples1, max_depth=max_depth, current_depth=root.depth+1)\n",
    "                \n",
    "        return root\n",
    "\n",
    "    # Function to predict a single example\n",
    "    def predict_example(self, x, tree_root):\n",
    "        if tree_root.prediction != None:\n",
    "            return tree_root.prediction\n",
    "\n",
    "        elif x[tree_root.feature] == 0:\n",
    "            tree_root = tree_root.subtree0\n",
    "            return self.predict_example(x, tree_root)\n",
    "        \n",
    "        else:\n",
    "            tree_root = tree_root.subtree1\n",
    "            return self.predict_example(x, tree_root)\n",
    "    \n",
    "    \n",
    "    # Function to predict an array of examples and returns an array of categories  for each example  \n",
    "    def predict(self, x, tree_root):\n",
    "        y = []\n",
    "        for i in range(len(x)):\n",
    "            y.append(self.predict_example(x[i], tree_root))\n",
    "        \n",
    "        return y\n",
    "\n",
    "    # Function to calculate the accuracy. ((true pos + true negs) / all samples)\n",
    "    def accuracy(self, x, y, tree):\n",
    "        counter = 0\n",
    "        for i in range(len(y)):\n",
    "            if self.predict_example(x[i], tree) == y[i]:\n",
    "                counter+=1\n",
    "        return float(counter/len(y))\n",
    "    \n",
    "    # Function to calculate the precision. (true pos / (true pos + false pos))\n",
    "    def precision(self, x, y, tree):\n",
    "        true_pos = 0\n",
    "        true_pred = 0\n",
    "        predictions = self.predict(x, tree)\n",
    "        for i in range(len(predictions)):\n",
    "            true_pred += predictions[i]\n",
    "            if predictions[i] == 1 and y[i] == 1:\n",
    "                true_pos +=1\n",
    "        return float(true_pos/true_pred)\n",
    "    \n",
    "    # Function to calculate the recall. (true pos / (true pos + false neg))\n",
    "    def recall(self, x, y, tree):\n",
    "        true_pos = 0\n",
    "        true_actual = 0\n",
    "        predictions = self.predict(x, tree)\n",
    "        for i in range(len(y)):\n",
    "            true_actual += y[i]\n",
    "            if predictions[i] == 1 and y[i] == 1:\n",
    "                true_pos += 1\n",
    "        return float(true_pos/true_actual)\n",
    "\n",
    "    # Function to create data for graphs. Returns an array with size=4.\n",
    "    # array[0] = x axis, array[1] = y accuracy, array[2] = y precision, array[3] = y recall\n",
    "    def create_graph_data(self, x_train, y_train, x_test, y_test, x_start, x_step):\n",
    "        i=x_start\n",
    "        x_graph = []\n",
    "        y_graph_accuracy = []\n",
    "        y_graph_precision = []\n",
    "        y_graph_recall = []\n",
    "        for i in tqdm(range(x_start, len(y_train), x_step)):\n",
    "            x = x_train[0:i]\n",
    "            y = y_train[0:i]\n",
    "            tree = self.create_tree(x, y)\n",
    "            x_graph.append(i)\n",
    "            y_graph_accuracy.append(self.accuracy(x_test, y_test, tree))\n",
    "            y_graph_precision.append(self.precision(x_test, y_test, tree))\n",
    "            y_graph_recall.append(self.recall(x_test, y_test, tree))\n",
    "\n",
    "        return [x_graph, y_graph_accuracy, y_graph_precision, y_graph_recall]\n",
    "\n"
   ]
  },
  {
   "attachments": {},
   "cell_type": "markdown",
   "metadata": {},
   "source": [
    "### Fetch data"
   ]
  },
  {
   "cell_type": "code",
   "execution_count": 145,
   "metadata": {},
   "outputs": [],
   "source": [
    "import tensorflow as tf\n",
    "import numpy as np\n",
    "\n",
    "(x_train, y_train), (x_test, y_test) = tf.keras.datasets.imdb.load_data(num_words=4000)\n",
    "\n",
    "word_index = tf.keras.datasets.imdb.get_word_index()\n",
    "index2word = dict((i + 3, word) for (word, i) in word_index.items())\n",
    "index2word[0] = '[pad]'\n",
    "index2word[1] = '[bos]'\n",
    "index2word[2] = '[oov]'\n",
    "x_train = np.array([' '.join([index2word[idx] for idx in text]) for text in x_train])\n",
    "x_test = np.array([' '.join([index2word[idx] for idx in text]) for text in x_test])"
   ]
  },
  {
   "cell_type": "code",
   "execution_count": 146,
   "metadata": {},
   "outputs": [],
   "source": [
    "x_train = x_train[0:10000]\n",
    "y_train = y_train[0:10000]\n",
    "x_test = x_test[0:10000]\n",
    "y_test = y_test[0:10000]"
   ]
  },
  {
   "cell_type": "code",
   "execution_count": 147,
   "metadata": {},
   "outputs": [
    {
     "name": "stdout",
     "output_type": "stream",
     "text": [
      "3998\n"
     ]
    }
   ],
   "source": [
    "vocabulary = list()\n",
    "for text in x_train:\n",
    "  tokens = text.split()\n",
    "  vocabulary.extend(tokens)\n",
    "\n",
    "vocabulary = set(vocabulary)\n",
    "print(len(vocabulary))"
   ]
  },
  {
   "cell_type": "code",
   "execution_count": 148,
   "metadata": {},
   "outputs": [
    {
     "name": "stderr",
     "output_type": "stream",
     "text": [
      "100%|██████████| 10000/10000 [02:32<00:00, 65.47it/s]\n",
      "100%|██████████| 10000/10000 [02:35<00:00, 64.50it/s]\n"
     ]
    }
   ],
   "source": [
    "from tqdm import tqdm\n",
    "\n",
    "x_train_binary = list()\n",
    "x_test_binary = list()\n",
    "\n",
    "for text in tqdm(x_train):\n",
    "  tokens = text.split()\n",
    "  binary_vector = list()\n",
    "  for vocab_token in vocabulary:\n",
    "    if vocab_token in tokens:\n",
    "      binary_vector.append(1)\n",
    "    else:\n",
    "      binary_vector.append(0)\n",
    "  x_train_binary.append(binary_vector)\n",
    "\n",
    "x_train_binary = np.array(x_train_binary)\n",
    "\n",
    "for text in tqdm(x_test):\n",
    "  tokens = text.split()\n",
    "  binary_vector = list()\n",
    "  for vocab_token in vocabulary:\n",
    "    if vocab_token in tokens:\n",
    "      binary_vector.append(1)\n",
    "    else:\n",
    "      binary_vector.append(0)\n",
    "  x_test_binary.append(binary_vector)\n",
    "\n",
    "x_test_binary = np.array(x_test_binary)"
   ]
  },
  {
   "attachments": {},
   "cell_type": "markdown",
   "metadata": {},
   "source": [
    "### Classification report"
   ]
  },
  {
   "cell_type": "code",
   "execution_count": 149,
   "metadata": {},
   "outputs": [],
   "source": [
    "id = ID3()\n",
    "tree = id.create_tree(x_train_binary, y_train, max_depth=5)"
   ]
  },
  {
   "cell_type": "code",
   "execution_count": 150,
   "metadata": {},
   "outputs": [
    {
     "name": "stdout",
     "output_type": "stream",
     "text": [
      "              precision    recall  f1-score   support\n",
      "\n",
      "           0       0.46      0.02      0.03      5027\n",
      "           1       0.50      0.98      0.66      4973\n",
      "\n",
      "    accuracy                           0.50     10000\n",
      "   macro avg       0.48      0.50      0.35     10000\n",
      "weighted avg       0.48      0.50      0.34     10000\n",
      "\n"
     ]
    }
   ],
   "source": [
    "from sklearn.metrics import classification_report\n",
    "report = classification_report(y_test, id.predict(x_test_binary, tree))\n",
    "print(report)"
   ]
  },
  {
   "attachments": {},
   "cell_type": "markdown",
   "metadata": {},
   "source": [
    "### Generate data for graphs"
   ]
  },
  {
   "cell_type": "code",
   "execution_count": 151,
   "metadata": {},
   "outputs": [
    {
     "name": "stderr",
     "output_type": "stream",
     "text": [
      "  0%|          | 0/20 [00:00<?, ?it/s]C:\\Users\\mikel\\AppData\\Local\\Temp\\ipykernel_5692\\1081786504.py:175: RuntimeWarning: invalid value encountered in longlong_scalars\n",
      "  return float(true_pos/true_actual)\n",
      "100%|██████████| 20/20 [00:00<00:00, 22.01it/s]\n"
     ]
    }
   ],
   "source": [
    "x=[]\n",
    "y_precision=[]\n",
    "y_recall=[]\n",
    "y_accuracy=[]\n",
    "i=1\n",
    "\n",
    "for i in tqdm(range(1, len(x_test_binary), 500)):\n",
    "    x.append(i)\n",
    "    y_precision.append(id.precision(x_test_binary[0:i], y_test[0:i], tree))\n",
    "    y_recall.append(id.recall(x_test_binary[0:i], y_test[0:i], tree))\n",
    "    y_accuracy.append(id.accuracy(x_test_binary[0:i], y_test[0:i], tree))\n",
    "\n"
   ]
  },
  {
   "cell_type": "code",
   "execution_count": 152,
   "metadata": {},
   "outputs": [
    {
     "name": "stderr",
     "output_type": "stream",
     "text": [
      "100%|██████████| 20/20 [00:01<00:00, 19.25it/s]\n"
     ]
    }
   ],
   "source": [
    "x=[]\n",
    "y_precision_train=[]\n",
    "y_recall_train=[]\n",
    "y_accuracy_train=[]\n",
    "i=1\n",
    "\n",
    "for i in tqdm(range(1, len(x_train_binary), 500)):\n",
    "    x.append(i)\n",
    "    y_precision_train.append(id.precision(x_train_binary[0:i], y_train[0:i], tree))\n",
    "    y_recall_train.append(id.recall(x_train_binary[0:i], y_train[0:i], tree))\n",
    "    y_accuracy_train.append(id.accuracy(x_train_binary[0:i], y_train[0:i], tree))\n"
   ]
  },
  {
   "attachments": {},
   "cell_type": "markdown",
   "metadata": {},
   "source": [
    "### Implement scikit learn model"
   ]
  },
  {
   "cell_type": "code",
   "execution_count": 153,
   "metadata": {},
   "outputs": [
    {
     "data": {
      "text/html": [
       "<style>#sk-container-id-5 {color: black;background-color: white;}#sk-container-id-5 pre{padding: 0;}#sk-container-id-5 div.sk-toggleable {background-color: white;}#sk-container-id-5 label.sk-toggleable__label {cursor: pointer;display: block;width: 100%;margin-bottom: 0;padding: 0.3em;box-sizing: border-box;text-align: center;}#sk-container-id-5 label.sk-toggleable__label-arrow:before {content: \"▸\";float: left;margin-right: 0.25em;color: #696969;}#sk-container-id-5 label.sk-toggleable__label-arrow:hover:before {color: black;}#sk-container-id-5 div.sk-estimator:hover label.sk-toggleable__label-arrow:before {color: black;}#sk-container-id-5 div.sk-toggleable__content {max-height: 0;max-width: 0;overflow: hidden;text-align: left;background-color: #f0f8ff;}#sk-container-id-5 div.sk-toggleable__content pre {margin: 0.2em;color: black;border-radius: 0.25em;background-color: #f0f8ff;}#sk-container-id-5 input.sk-toggleable__control:checked~div.sk-toggleable__content {max-height: 200px;max-width: 100%;overflow: auto;}#sk-container-id-5 input.sk-toggleable__control:checked~label.sk-toggleable__label-arrow:before {content: \"▾\";}#sk-container-id-5 div.sk-estimator input.sk-toggleable__control:checked~label.sk-toggleable__label {background-color: #d4ebff;}#sk-container-id-5 div.sk-label input.sk-toggleable__control:checked~label.sk-toggleable__label {background-color: #d4ebff;}#sk-container-id-5 input.sk-hidden--visually {border: 0;clip: rect(1px 1px 1px 1px);clip: rect(1px, 1px, 1px, 1px);height: 1px;margin: -1px;overflow: hidden;padding: 0;position: absolute;width: 1px;}#sk-container-id-5 div.sk-estimator {font-family: monospace;background-color: #f0f8ff;border: 1px dotted black;border-radius: 0.25em;box-sizing: border-box;margin-bottom: 0.5em;}#sk-container-id-5 div.sk-estimator:hover {background-color: #d4ebff;}#sk-container-id-5 div.sk-parallel-item::after {content: \"\";width: 100%;border-bottom: 1px solid gray;flex-grow: 1;}#sk-container-id-5 div.sk-label:hover label.sk-toggleable__label {background-color: #d4ebff;}#sk-container-id-5 div.sk-serial::before {content: \"\";position: absolute;border-left: 1px solid gray;box-sizing: border-box;top: 0;bottom: 0;left: 50%;z-index: 0;}#sk-container-id-5 div.sk-serial {display: flex;flex-direction: column;align-items: center;background-color: white;padding-right: 0.2em;padding-left: 0.2em;position: relative;}#sk-container-id-5 div.sk-item {position: relative;z-index: 1;}#sk-container-id-5 div.sk-parallel {display: flex;align-items: stretch;justify-content: center;background-color: white;position: relative;}#sk-container-id-5 div.sk-item::before, #sk-container-id-5 div.sk-parallel-item::before {content: \"\";position: absolute;border-left: 1px solid gray;box-sizing: border-box;top: 0;bottom: 0;left: 50%;z-index: -1;}#sk-container-id-5 div.sk-parallel-item {display: flex;flex-direction: column;z-index: 1;position: relative;background-color: white;}#sk-container-id-5 div.sk-parallel-item:first-child::after {align-self: flex-end;width: 50%;}#sk-container-id-5 div.sk-parallel-item:last-child::after {align-self: flex-start;width: 50%;}#sk-container-id-5 div.sk-parallel-item:only-child::after {width: 0;}#sk-container-id-5 div.sk-dashed-wrapped {border: 1px dashed gray;margin: 0 0.4em 0.5em 0.4em;box-sizing: border-box;padding-bottom: 0.4em;background-color: white;}#sk-container-id-5 div.sk-label label {font-family: monospace;font-weight: bold;display: inline-block;line-height: 1.2em;}#sk-container-id-5 div.sk-label-container {text-align: center;}#sk-container-id-5 div.sk-container {/* jupyter's `normalize.less` sets `[hidden] { display: none; }` but bootstrap.min.css set `[hidden] { display: none !important; }` so we also need the `!important` here to be able to override the default hidden behavior on the sphinx rendered scikit-learn.org. See: https://github.com/scikit-learn/scikit-learn/issues/21755 */display: inline-block !important;position: relative;}#sk-container-id-5 div.sk-text-repr-fallback {display: none;}</style><div id=\"sk-container-id-5\" class=\"sk-top-container\"><div class=\"sk-text-repr-fallback\"><pre>DecisionTreeClassifier(criterion=&#x27;entropy&#x27;)</pre><b>In a Jupyter environment, please rerun this cell to show the HTML representation or trust the notebook. <br />On GitHub, the HTML representation is unable to render, please try loading this page with nbviewer.org.</b></div><div class=\"sk-container\" hidden><div class=\"sk-item\"><div class=\"sk-estimator sk-toggleable\"><input class=\"sk-toggleable__control sk-hidden--visually\" id=\"sk-estimator-id-5\" type=\"checkbox\" checked><label for=\"sk-estimator-id-5\" class=\"sk-toggleable__label sk-toggleable__label-arrow\">DecisionTreeClassifier</label><div class=\"sk-toggleable__content\"><pre>DecisionTreeClassifier(criterion=&#x27;entropy&#x27;)</pre></div></div></div></div></div>"
      ],
      "text/plain": [
       "DecisionTreeClassifier(criterion='entropy')"
      ]
     },
     "execution_count": 153,
     "metadata": {},
     "output_type": "execute_result"
    }
   ],
   "source": [
    "from sklearn import tree\n",
    "dt = tree.DecisionTreeClassifier(criterion='entropy')\n",
    "dt.fit(x_train_binary, y_train)"
   ]
  },
  {
   "cell_type": "code",
   "execution_count": 154,
   "metadata": {},
   "outputs": [
    {
     "name": "stdout",
     "output_type": "stream",
     "text": [
      "              precision    recall  f1-score   support\n",
      "\n",
      "           0       1.00      1.00      1.00      4947\n",
      "           1       1.00      1.00      1.00      5053\n",
      "\n",
      "    accuracy                           1.00     10000\n",
      "   macro avg       1.00      1.00      1.00     10000\n",
      "weighted avg       1.00      1.00      1.00     10000\n",
      "\n"
     ]
    }
   ],
   "source": [
    "from sklearn.metrics import classification_report\n",
    "report = classification_report(y_train, dt.predict(x_train_binary))\n",
    "print(report)"
   ]
  },
  {
   "cell_type": "code",
   "execution_count": 155,
   "metadata": {},
   "outputs": [
    {
     "name": "stdout",
     "output_type": "stream",
     "text": [
      "              precision    recall  f1-score   support\n",
      "\n",
      "           0       0.70      0.70      0.70      5027\n",
      "           1       0.70      0.70      0.70      4973\n",
      "\n",
      "    accuracy                           0.70     10000\n",
      "   macro avg       0.70      0.70      0.70     10000\n",
      "weighted avg       0.70      0.70      0.70     10000\n",
      "\n"
     ]
    }
   ],
   "source": [
    "from sklearn.metrics import classification_report\n",
    "report = classification_report(y_test, dt.predict(x_test_binary))\n",
    "print(report)"
   ]
  },
  {
   "attachments": {},
   "cell_type": "markdown",
   "metadata": {},
   "source": [
    "### Generate data for graphs"
   ]
  },
  {
   "cell_type": "code",
   "execution_count": 156,
   "metadata": {},
   "outputs": [
    {
     "name": "stderr",
     "output_type": "stream",
     "text": [
      "100%|██████████| 20/20 [00:03<00:00,  5.54it/s]\n"
     ]
    }
   ],
   "source": [
    "from sklearn.metrics import precision_score\n",
    "from sklearn.metrics import recall_score\n",
    "from sklearn.metrics import f1_score\n",
    "from tqdm import tqdm\n",
    "\n",
    "# make data\n",
    "x=[]\n",
    "y_precision_dt=[]\n",
    "y_recall_dt=[]\n",
    "y_f1_dt=[]\n",
    "i=1\n",
    "\n",
    "for i in tqdm(range(1, len(x_test_binary),500)):\n",
    "    x.append(i)\n",
    "    y_precision_dt.append(precision_score(y_test[0:i], dt.predict(x_test_binary[0:i]), average='weighted'))\n",
    "    y_recall_dt.append(recall_score(y_test[0:i], dt.predict(x_test_binary[0:i]), average='weighted'))\n",
    "    y_f1_dt.append(f1_score(y_test[0:i], dt.predict(x_test_binary[0:i]), average='weighted'))"
   ]
  },
  {
   "cell_type": "code",
   "execution_count": 157,
   "metadata": {},
   "outputs": [
    {
     "name": "stderr",
     "output_type": "stream",
     "text": [
      "100%|██████████| 20/20 [00:03<00:00,  5.42it/s]\n"
     ]
    }
   ],
   "source": [
    "from sklearn.metrics import precision_score\n",
    "from sklearn.metrics import recall_score\n",
    "from sklearn.metrics import f1_score\n",
    "from tqdm import tqdm\n",
    "\n",
    "# make data\n",
    "x=[]\n",
    "y_precision_dt_train=[]\n",
    "y_recall_dt_train=[]\n",
    "y_f1_dt_train=[]\n",
    "i=1\n",
    "\n",
    "for i in tqdm(range(1, len(x_train_binary),500)):\n",
    "    x.append(i)\n",
    "    y_precision_dt_train.append(precision_score(y_train[0:i], dt.predict(x_train_binary[0:i]), average='weighted'))\n",
    "    y_recall_dt_train.append(recall_score(y_train[0:i], dt.predict(x_train_binary[0:i]), average='weighted'))\n",
    "    y_f1_dt_train.append(f1_score(y_train[0:i], dt.predict(x_train_binary[0:i]), average='weighted'))"
   ]
  },
  {
   "attachments": {},
   "cell_type": "markdown",
   "metadata": {},
   "source": [
    "### Implement MLP model"
   ]
  },
  {
   "cell_type": "code",
   "execution_count": 158,
   "metadata": {},
   "outputs": [],
   "source": [
    "imdb_mlp = tf.keras.models.Sequential([\n",
    "      tf.keras.layers.Input(shape=(3998,)),\n",
    "      tf.keras.layers.Dense(units=256, activation='relu'),\n",
    "      tf.keras.layers.Dropout(rate=0.2),\n",
    "      tf.keras.layers.Dense(units=128, activation='relu'),\n",
    "      tf.keras.layers.Dense(units=64, activation='relu'),\n",
    "      tf.keras.layers.Dropout(rate=0.5),\n",
    "      tf.keras.layers.Dense(units=1, activation='sigmoid')\n",
    "])\n"
   ]
  },
  {
   "cell_type": "code",
   "execution_count": 159,
   "metadata": {},
   "outputs": [
    {
     "name": "stdout",
     "output_type": "stream",
     "text": [
      "Epoch 1/10\n",
      "313/313 [==============================] - 4s 8ms/step - loss: 0.6893 - binary_accuracy: 0.5438\n",
      "Epoch 2/10\n",
      "313/313 [==============================] - 2s 8ms/step - loss: 0.6395 - binary_accuracy: 0.6554\n",
      "Epoch 3/10\n",
      "313/313 [==============================] - 2s 8ms/step - loss: 0.5268 - binary_accuracy: 0.7591\n",
      "Epoch 4/10\n",
      "313/313 [==============================] - 2s 8ms/step - loss: 0.4276 - binary_accuracy: 0.8184\n",
      "Epoch 5/10\n",
      "313/313 [==============================] - 3s 8ms/step - loss: 0.3660 - binary_accuracy: 0.8493\n",
      "Epoch 6/10\n",
      "313/313 [==============================] - 2s 8ms/step - loss: 0.3331 - binary_accuracy: 0.8694\n",
      "Epoch 7/10\n",
      "313/313 [==============================] - 2s 8ms/step - loss: 0.2986 - binary_accuracy: 0.8874\n",
      "Epoch 8/10\n",
      "313/313 [==============================] - 2s 8ms/step - loss: 0.2668 - binary_accuracy: 0.9020\n",
      "Epoch 9/10\n",
      "313/313 [==============================] - 3s 8ms/step - loss: 0.2456 - binary_accuracy: 0.9075\n",
      "Epoch 10/10\n",
      "313/313 [==============================] - 2s 8ms/step - loss: 0.2228 - binary_accuracy: 0.9150\n"
     ]
    },
    {
     "data": {
      "text/plain": [
       "<keras.callbacks.History at 0x18e2262e620>"
      ]
     },
     "execution_count": 159,
     "metadata": {},
     "output_type": "execute_result"
    }
   ],
   "source": [
    "imdb_mlp.compile(loss=tf.keras.losses.BinaryCrossentropy(), \n",
    "                  optimizer=tf.keras.optimizers.SGD(),\n",
    "                  metrics=['binary_accuracy'])\n",
    "imdb_mlp.fit(x=x_train_binary, y=y_train,\n",
    "             epochs=10, verbose=1, batch_size=32)"
   ]
  },
  {
   "cell_type": "code",
   "execution_count": 160,
   "metadata": {},
   "outputs": [
    {
     "name": "stdout",
     "output_type": "stream",
     "text": [
      "Epoch 1/10\n",
      "313/313 [==============================] - 3s 9ms/step - loss: 0.6863 - binary_accuracy: 0.5408\n",
      "Epoch 2/10\n",
      "313/313 [==============================] - 2s 8ms/step - loss: 0.6392 - binary_accuracy: 0.6626\n",
      "Epoch 3/10\n",
      "313/313 [==============================] - 2s 8ms/step - loss: 0.5195 - binary_accuracy: 0.7618\n",
      "Epoch 4/10\n",
      "313/313 [==============================] - 3s 8ms/step - loss: 0.4267 - binary_accuracy: 0.8177\n",
      "Epoch 5/10\n",
      "313/313 [==============================] - 3s 8ms/step - loss: 0.3646 - binary_accuracy: 0.8496\n",
      "Epoch 6/10\n",
      "313/313 [==============================] - 2s 8ms/step - loss: 0.3216 - binary_accuracy: 0.8697\n",
      "Epoch 7/10\n",
      "313/313 [==============================] - 3s 8ms/step - loss: 0.2910 - binary_accuracy: 0.8856\n",
      "Epoch 8/10\n",
      "313/313 [==============================] - 3s 8ms/step - loss: 0.2595 - binary_accuracy: 0.8993\n",
      "Epoch 9/10\n",
      "313/313 [==============================] - 3s 8ms/step - loss: 0.2332 - binary_accuracy: 0.9112\n",
      "Epoch 10/10\n",
      "313/313 [==============================] - 2s 8ms/step - loss: 0.2119 - binary_accuracy: 0.9225\n"
     ]
    }
   ],
   "source": [
    "imdb_mlp = tf.keras.models.Sequential([\n",
    "      tf.keras.layers.Input(shape=(3998,)),\n",
    "      tf.keras.layers.Dense(units=256, activation='relu'),\n",
    "      tf.keras.layers.Dropout(rate=0.2),\n",
    "      tf.keras.layers.Dense(units=128, activation='relu'),\n",
    "      tf.keras.layers.Dense(units=64, activation='relu'),\n",
    "      tf.keras.layers.Dropout(rate=0.5),\n",
    "      tf.keras.layers.Dense(units=1, activation='sigmoid')\n",
    "])\n",
    "\n",
    "imdb_mlp.compile(loss=tf.keras.losses.BinaryCrossentropy(), \n",
    "                  optimizer=tf.keras.optimizers.SGD(),\n",
    "                  metrics=['binary_accuracy'])\n",
    "imdb_mlp.fit(x=x_train_binary, y=y_train,\n",
    "             epochs=10, verbose=1, batch_size=32)\n",
    "\n",
    "\n",
    "\n",
    "\n",
    "def mlp_precision(x, y, predictions):\n",
    "    true_pos = 0\n",
    "    true_actual = 0\n",
    "    for i in range(len(y)):\n",
    "        true_actual += y[i]\n",
    "        if predictions[i] == 1 and y[i] == 1:\n",
    "            true_pos += 1\n",
    "    return float(true_pos/true_actual)\n",
    "\n",
    "def mlp_accuracy(x, y, predictions):\n",
    "    counter = 0\n",
    "    for i in range(len(y)):\n",
    "        if predictions[i] == y[i]:\n",
    "            counter += 1\n",
    "    return float(counter/len(y))\n",
    "\n",
    "def mlp_recall(x, y, predictions):\n",
    "    true_pos = 0\n",
    "    true_actual = 0\n",
    "    for i in range(len(y)):\n",
    "        true_actual += y[i]\n",
    "        if predictions[i] == 1 and y[i] == 1:\n",
    "            true_pos += 1\n",
    "    \n",
    "    return float(true_pos/true_actual)\n"
   ]
  },
  {
   "attachments": {},
   "cell_type": "markdown",
   "metadata": {},
   "source": [
    "### Generate data for graphs"
   ]
  },
  {
   "cell_type": "code",
   "execution_count": 161,
   "metadata": {},
   "outputs": [
    {
     "name": "stdout",
     "output_type": "stream",
     "text": [
      "313/313 [==============================] - 1s 3ms/step\n"
     ]
    },
    {
     "name": "stderr",
     "output_type": "stream",
     "text": [
      "  0%|          | 0/20 [00:00<?, ?it/s]C:\\Users\\mikel\\AppData\\Local\\Temp\\ipykernel_5692\\1001057664.py:27: RuntimeWarning: invalid value encountered in longlong_scalars\n",
      "  return float(true_pos/true_actual)\n",
      "C:\\Users\\mikel\\AppData\\Local\\Temp\\ipykernel_5692\\1001057664.py:44: RuntimeWarning: invalid value encountered in longlong_scalars\n",
      "  return float(true_pos/true_actual)\n",
      "100%|██████████| 20/20 [00:00<00:00, 21.68it/s]\n"
     ]
    }
   ],
   "source": [
    "preds = imdb_mlp.predict(x_test_binary)\n",
    "for i in range(len(preds)):\n",
    "    preds[i] = round(preds[i][0])\n",
    "\n",
    "y_precision_mlp=[]\n",
    "y_recall_mlp=[]\n",
    "y_accuracy_mlp=[]\n",
    "i=1\n",
    "\n",
    "for i in tqdm(range(1, len(x_test_binary), 500)):\n",
    "    y_precision_mlp.append(mlp_precision(x_test_binary[0:i], y_test[0:i], preds))\n",
    "    y_recall_mlp.append(mlp_recall(x_test_binary[0:i], y_test[0:i], preds))\n",
    "    y_accuracy_mlp.append(mlp_accuracy(x_test_binary[0:i], y_test[0:i], preds))"
   ]
  },
  {
   "cell_type": "code",
   "execution_count": 162,
   "metadata": {},
   "outputs": [
    {
     "name": "stdout",
     "output_type": "stream",
     "text": [
      "313/313 [==============================] - 1s 4ms/step\n"
     ]
    },
    {
     "name": "stderr",
     "output_type": "stream",
     "text": [
      "100%|██████████| 20/20 [00:00<00:00, 20.91it/s]\n"
     ]
    }
   ],
   "source": [
    "preds = imdb_mlp.predict(x_train_binary)\n",
    "for i in range(len(preds)):\n",
    "    preds[i] = round(preds[i][0])\n",
    "\n",
    "y_precision_mlp_train=[]\n",
    "y_recall_mlp_train=[]\n",
    "y_accuracy_mlp_train=[]\n",
    "i=1\n",
    "\n",
    "for i in tqdm(range(1, len(x_train_binary), 500)):\n",
    "    y_precision_mlp_train.append(mlp_precision(x_train_binary[0:i], y_train[0:i], preds))\n",
    "    y_recall_mlp_train.append(mlp_recall(x_train_binary[0:i], y_train[0:i], preds))\n",
    "    y_accuracy_mlp_train.append(mlp_accuracy(x_train_binary[0:i], y_train[0:i], preds))\n",
    "\n"
   ]
  },
  {
   "attachments": {},
   "cell_type": "markdown",
   "metadata": {},
   "source": [
    "### Graphs for test data"
   ]
  },
  {
   "cell_type": "code",
   "execution_count": 163,
   "metadata": {},
   "outputs": [
    {
     "data": {
      "image/png": "[encoded data removed]",
      "text/plain": [
       "<Figure size 200x200 with 1 Axes>"
      ]
     },
     "metadata": {},
     "output_type": "display_data"
    },
    {
     "data": {
      "image/png": "[encoded data removed]",
      "text/plain": [
       "<Figure size 200x200 with 1 Axes>"
      ]
     },
     "metadata": {},
     "output_type": "display_data"
    },
    {
     "data": {
      "image/png": "[encoded data removed]",
      "text/plain": [
       "<Figure size 200x200 with 1 Axes>"
      ]
     },
     "metadata": {},
     "output_type": "display_data"
    }
   ],
   "source": [
    "import matplotlib.pyplot as plt\n",
    "import numpy as np\n",
    "\n",
    "plt.style.use('_mpl-gallery')\n",
    "\n",
    "# plot\n",
    "fig, ax = plt.subplots()\n",
    "\n",
    "ax.plot(x, y_precision, linewidth=2.0, color='red', label='sklearn model')\n",
    "ax.plot(x, y_precision_dt, linewidth=2.0, label='Our model')\n",
    "ax.plot(x, y_precision_mlp, linewidth=2.0, color='green', label='MLP')\n",
    "ax.legend()\n",
    "plt.title('Test Data Presicion')\n",
    "\n",
    "\n",
    "plt.style.use('_mpl-gallery')\n",
    "\n",
    "# plot\n",
    "fig, ax = plt.subplots()\n",
    "\n",
    "ax.plot(x, y_accuracy, linewidth=2.0, color='red', label='sklearn model')\n",
    "ax.plot(x, y_f1_dt, linewidth=2.0, label='Our model')\n",
    "ax.plot(x, y_accuracy_mlp, linewidth=2.0, color='green', label='MLP')\n",
    "\n",
    "ax.legend()\n",
    "plt.title('Test Data Accuracy')\n",
    "\n",
    "\n",
    "plt.style.use('_mpl-gallery')\n",
    "\n",
    "# plot\n",
    "fig, ax = plt.subplots()\n",
    "\n",
    "ax.plot(x, y_recall, linewidth=2.0, color='red', label='sklearn model')\n",
    "ax.plot(x, y_recall_dt, linewidth=2.0, label='Our model')\n",
    "ax.plot(x, y_recall_mlp, linewidth=2.0, color='green', label='MLP')\n",
    "\n",
    "ax.legend()\n",
    "plt.title('Test Data Recall')\n",
    "plt.ylim(0,1)\n",
    "\n",
    "plt.show()"
   ]
  },
  {
   "attachments": {},
   "cell_type": "markdown",
   "metadata": {},
   "source": [
    "### Graphs for training data"
   ]
  },
  {
   "cell_type": "code",
   "execution_count": 164,
   "metadata": {},
   "outputs": [
    {
     "data": {
      "image/png": "[encoded data removed]",
      "text/plain": [
       "<Figure size 200x200 with 1 Axes>"
      ]
     },
     "metadata": {},
     "output_type": "display_data"
    },
    {
     "data": {
      "image/png": "[encoded data removed]",
      "text/plain": [
       "<Figure size 200x200 with 1 Axes>"
      ]
     },
     "metadata": {},
     "output_type": "display_data"
    },
    {
     "data": {
      "image/png": "[encoded data removed]",
      "text/plain": [
       "<Figure size 200x200 with 1 Axes>"
      ]
     },
     "metadata": {},
     "output_type": "display_data"
    }
   ],
   "source": [
    "import matplotlib.pyplot as plt\n",
    "import numpy as np\n",
    "\n",
    "plt.style.use('_mpl-gallery')\n",
    "\n",
    "# plot\n",
    "fig, ax = plt.subplots()\n",
    "\n",
    "ax.plot(x, y_precision_train, linewidth=2.0, color='red', label='sklearn model')\n",
    "ax.plot(x, y_precision_dt_train, linewidth=2.0, label='Our model')\n",
    "ax.plot(x, y_precision_mlp_train, linewidth=2.0, color='green', label='MLP')\n",
    "ax.legend()\n",
    "plt.title('Train Data Presicion')\n",
    "plt.ylim(0,1.05)\n",
    "\n",
    "\n",
    "plt.style.use('_mpl-gallery')\n",
    "\n",
    "# plot\n",
    "fig, ax = plt.subplots()\n",
    "\n",
    "ax.plot(x, y_accuracy_train, linewidth=2.0, color='red', label='sklearn model')\n",
    "ax.plot(x, y_f1_dt_train, linewidth=2.0, label='Our model')\n",
    "ax.plot(x, y_accuracy_mlp_train, linewidth=2.0, color='green', label='MLP')\n",
    "\n",
    "ax.legend()\n",
    "plt.title('Train Data Accuracy')\n",
    "plt.ylim(0,1.05)\n",
    "\n",
    "\n",
    "plt.style.use('_mpl-gallery')\n",
    "\n",
    "# plot\n",
    "fig, ax = plt.subplots()\n",
    "\n",
    "ax.plot(x, y_recall_train, linewidth=2.0, color='red', label='sklearn model')\n",
    "ax.plot(x, y_recall_dt_train, linewidth=2.0, label='Our model')\n",
    "ax.plot(x, y_recall_mlp_train, linewidth=2.0, color='green', label='MLP')\n",
    "\n",
    "ax.legend()\n",
    "plt.title('Train Data Recall')\n",
    "plt.ylim(0,1.05)\n",
    "\n",
    "plt.show()"
   ]
  }
 ],
 "metadata": {
  "kernelspec": {
   "display_name": "Python 3 (ipykernel)",
   "language": "python",
   "name": "python3"
  },
  "language_info": {
   "codemirror_mode": {
    "name": "ipython",
    "version": 3
   },
   "file_extension": ".py",
   "mimetype": "text/x-python",
   "name": "python",
   "nbconvert_exporter": "python",
   "pygments_lexer": "ipython3",
   "version": "3.10.5 (tags/v3.10.5:f377153, Jun  6 2022, 16:14:13) [MSC v.1929 64 bit (AMD64)]"
  },
  "vscode": {
   "interpreter": {
    "hash": "57ac01fc0f09bd45a20666a37f6c4bdda3e8d52829833e4a22b390512f207afa"
   }
  }
 },
 "nbformat": 4,
 "nbformat_minor": 4
}
